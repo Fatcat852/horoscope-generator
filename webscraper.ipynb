{
 "cells": [
  {
   "cell_type": "markdown",
   "id": "83b157fc",
   "metadata": {},
   "source": [
    "# WebScraper Bot"
   ]
  },
  {
   "cell_type": "markdown",
   "id": "8fd770b9",
   "metadata": {},
   "source": [
    "Extracts text from 'horoscope.com' and outputs a json file with 2 months worth of horoscopes (for each sign)"
   ]
  },
  {
   "cell_type": "code",
   "execution_count": 11,
   "id": "d9d54396",
   "metadata": {},
   "outputs": [
    {
     "name": "stdout",
     "output_type": "stream",
     "text": [
      "['20220801', '20220802', '20220803', '20220804', '20220805', '20220806', '20220807', '20220808', '20220809', '20220810', '20220811', '20220812', '20220813', '20220814', '20220815', '20220816', '20220817', '20220818', '20220819', '20220820', '20220821', '20220822', '20220823', '20220824', '20220825', '20220826', '20220827', '20220828', '20220829', '20220830', '20220831', '20220901', '20220902', '20220903', '20220904', '20220905', '20220906', '20220907', '20220908', '20220909', '20220910', '20220911', '20220912', '20220913', '20220914', '20220915', '20220916', '20220917', '20220918', '20220919', '20220920', '20220921', '20220922', '20220923', '20220924', '20220925', '20220926']\n",
      "57\n"
     ]
    }
   ],
   "source": [
    "import pandas as pd\n",
    "from datetime import date, timedelta\n",
    "from dateutil.relativedelta import relativedelta\n",
    "\n",
    "current_date = date.today()\n",
    "\n",
    "startDate = date(2022,8,1)\n",
    "endDate = current_date\n",
    "\n",
    "datesIn2021 = pd.date_range(startDate,endDate,freq='d')\n",
    "\n",
    "dates = list(datesIn2021.strftime('%Y%m%d').str.upper())\n",
    "\n",
    "print(dates)\n",
    "print(len(dates))"
   ]
  },
  {
   "cell_type": "code",
   "execution_count": 11,
   "id": "f7310e35",
   "metadata": {},
   "outputs": [
    {
     "name": "stdout",
     "output_type": "stream",
     "text": [
      "55\n"
     ]
    }
   ],
   "source": [
    "from bs4 import BeautifulSoup\n",
    "import json\n",
    "import requests\n",
    "\n",
    "result = []\n",
    "\n",
    "for sign in range(1,12):\n",
    "    for date in dates[:5]:\n",
    "        URL = \"https://www.horoscope.com/us/horoscopes/general/horoscope-archive.aspx?sign=\" + str(sign) + \"&laDate=\" + date\n",
    "        page = requests.get(URL)\n",
    "        soup = BeautifulSoup(page.text, \"html.parser\")\n",
    "\n",
    "        horoscope = soup.find(\"div\", class_=\"main-horoscope\")\n",
    "        horoscope = horoscope.find(\"p\")\n",
    "        \n",
    "        result.append({\"sign\": sign, \"date\": date, \"text\": horoscope.text,})\n",
    "\n",
    "with open(\"dataset.json\", \"w\") as outfile:\n",
    "    json.dump(result, outfile)\n",
    "    \n",
    "print(len(result))"
   ]
  },
  {
   "cell_type": "code",
   "execution_count": 15,
   "id": "85b0dd12",
   "metadata": {},
   "outputs": [
    {
     "name": "stdout",
     "output_type": "stream",
     "text": [
      "684\n"
     ]
    }
   ],
   "source": [
    "from bs4 import BeautifulSoup\n",
    "import json\n",
    "import requests\n",
    "from lxml.html import fromstring\n",
    "import cchardet \n",
    "import re\n",
    "\n",
    "result = []\n",
    "\n",
    "for sign in range(1,13):\n",
    "    for date in dates:\n",
    "        URL = \"https://www.horoscope.com/us/horoscopes/general/horoscope-archive.aspx?sign=\" + str(sign) + \"&laDate=\" + date\n",
    "        page = requests.get(URL)\n",
    "        soup = BeautifulSoup(page.text, \"lxml\")\n",
    "\n",
    "        horoscope = soup.find(\"div\", attrs={\"class\":\"main-horoscope\"})\n",
    "        horoscope = horoscope.find(\"p\")\n",
    "        text = horoscope.text\n",
    "        \n",
    "        # clean the data and remove date at the start\n",
    "        out = re.sub('^.+-\\s', '', text)\n",
    "        \n",
    "        result.append({\"sign\": sign, \"date\": date, \"text\": out,})\n",
    "\n",
    "with open(\"dataset.json\", \"w\") as outfile:\n",
    "    json.dump(result, outfile)\n",
    "    \n",
    "print(len(result))"
   ]
  },
  {
   "cell_type": "code",
   "execution_count": null,
   "id": "5f54ee02",
   "metadata": {},
   "outputs": [],
   "source": []
  },
  {
   "cell_type": "code",
   "execution_count": null,
   "id": "ba546834",
   "metadata": {},
   "outputs": [],
   "source": []
  }
 ],
 "metadata": {
  "kernelspec": {
   "display_name": "Python 3 (ipykernel)",
   "language": "python",
   "name": "python3"
  },
  "language_info": {
   "codemirror_mode": {
    "name": "ipython",
    "version": 3
   },
   "file_extension": ".py",
   "mimetype": "text/x-python",
   "name": "python",
   "nbconvert_exporter": "python",
   "pygments_lexer": "ipython3",
   "version": "3.9.1"
  }
 },
 "nbformat": 4,
 "nbformat_minor": 5
}
